{
 "cells": [
  {
   "cell_type": "markdown",
   "id": "3181cba6",
   "metadata": {},
   "source": [
    "# Import ncessary libraries"
   ]
  },
  {
   "cell_type": "code",
   "execution_count": 1,
   "id": "bf3f078f",
   "metadata": {},
   "outputs": [
    {
     "name": "stdout",
     "output_type": "stream",
     "text": [
      "Requirement already satisfied: pip in /home/ec2-user/anaconda3/envs/python3/lib/python3.10/site-packages (24.2)\n",
      "Requirement already satisfied: numpy==1.23.5 in /home/ec2-user/anaconda3/envs/python3/lib/python3.10/site-packages (1.23.5)\n",
      "Requirement already satisfied: xgboost in /home/ec2-user/anaconda3/envs/python3/lib/python3.10/site-packages (2.1.1)\n",
      "Requirement already satisfied: imbalanced-learn in /home/ec2-user/anaconda3/envs/python3/lib/python3.10/site-packages (0.12.4)\n",
      "Requirement already satisfied: shap in /home/ec2-user/anaconda3/envs/python3/lib/python3.10/site-packages (0.45.1)\n",
      "Requirement already satisfied: numpy in /home/ec2-user/anaconda3/envs/python3/lib/python3.10/site-packages (from xgboost) (1.23.5)\n",
      "Requirement already satisfied: scipy in /home/ec2-user/anaconda3/envs/python3/lib/python3.10/site-packages (from xgboost) (1.14.0)\n",
      "Requirement already satisfied: scikit-learn>=1.0.2 in /home/ec2-user/anaconda3/envs/python3/lib/python3.10/site-packages (from imbalanced-learn) (1.5.1)\n",
      "Requirement already satisfied: joblib>=1.1.1 in /home/ec2-user/anaconda3/envs/python3/lib/python3.10/site-packages (from imbalanced-learn) (1.4.2)\n",
      "Requirement already satisfied: threadpoolctl>=2.0.0 in /home/ec2-user/anaconda3/envs/python3/lib/python3.10/site-packages (from imbalanced-learn) (3.5.0)\n",
      "Requirement already satisfied: pandas in /home/ec2-user/anaconda3/envs/python3/lib/python3.10/site-packages (from shap) (2.2.2)\n",
      "Requirement already satisfied: tqdm>=4.27.0 in /home/ec2-user/anaconda3/envs/python3/lib/python3.10/site-packages (from shap) (4.66.4)\n",
      "Requirement already satisfied: packaging>20.9 in /home/ec2-user/anaconda3/envs/python3/lib/python3.10/site-packages (from shap) (21.3)\n",
      "Requirement already satisfied: slicer==0.0.8 in /home/ec2-user/anaconda3/envs/python3/lib/python3.10/site-packages (from shap) (0.0.8)\n",
      "Requirement already satisfied: numba in /home/ec2-user/anaconda3/envs/python3/lib/python3.10/site-packages (from shap) (0.60.0)\n",
      "Requirement already satisfied: cloudpickle in /home/ec2-user/anaconda3/envs/python3/lib/python3.10/site-packages (from shap) (2.2.1)\n",
      "Requirement already satisfied: pyparsing!=3.0.5,>=2.0.2 in /home/ec2-user/anaconda3/envs/python3/lib/python3.10/site-packages (from packaging>20.9->shap) (3.1.2)\n",
      "Requirement already satisfied: llvmlite<0.44,>=0.43.0dev0 in /home/ec2-user/anaconda3/envs/python3/lib/python3.10/site-packages (from numba->shap) (0.43.0)\n",
      "Requirement already satisfied: python-dateutil>=2.8.2 in /home/ec2-user/anaconda3/envs/python3/lib/python3.10/site-packages (from pandas->shap) (2.9.0)\n",
      "Requirement already satisfied: pytz>=2020.1 in /home/ec2-user/anaconda3/envs/python3/lib/python3.10/site-packages (from pandas->shap) (2024.1)\n",
      "Requirement already satisfied: tzdata>=2022.7 in /home/ec2-user/anaconda3/envs/python3/lib/python3.10/site-packages (from pandas->shap) (2024.1)\n",
      "Requirement already satisfied: six>=1.5 in /home/ec2-user/anaconda3/envs/python3/lib/python3.10/site-packages (from python-dateutil>=2.8.2->pandas->shap) (1.16.0)\n",
      "Requirement already satisfied: matplotlib in /home/ec2-user/anaconda3/envs/python3/lib/python3.10/site-packages (3.9.2)\n",
      "Requirement already satisfied: seaborn in /home/ec2-user/anaconda3/envs/python3/lib/python3.10/site-packages (0.13.2)\n",
      "Requirement already satisfied: contourpy>=1.0.1 in /home/ec2-user/anaconda3/envs/python3/lib/python3.10/site-packages (from matplotlib) (1.2.1)\n",
      "Requirement already satisfied: cycler>=0.10 in /home/ec2-user/anaconda3/envs/python3/lib/python3.10/site-packages (from matplotlib) (0.12.1)\n",
      "Requirement already satisfied: fonttools>=4.22.0 in /home/ec2-user/anaconda3/envs/python3/lib/python3.10/site-packages (from matplotlib) (4.53.1)\n",
      "Requirement already satisfied: kiwisolver>=1.3.1 in /home/ec2-user/anaconda3/envs/python3/lib/python3.10/site-packages (from matplotlib) (1.4.5)\n",
      "Requirement already satisfied: numpy>=1.23 in /home/ec2-user/anaconda3/envs/python3/lib/python3.10/site-packages (from matplotlib) (1.23.5)\n",
      "Requirement already satisfied: packaging>=20.0 in /home/ec2-user/anaconda3/envs/python3/lib/python3.10/site-packages (from matplotlib) (21.3)\n",
      "Requirement already satisfied: pillow>=8 in /home/ec2-user/anaconda3/envs/python3/lib/python3.10/site-packages (from matplotlib) (10.4.0)\n",
      "Requirement already satisfied: pyparsing>=2.3.1 in /home/ec2-user/anaconda3/envs/python3/lib/python3.10/site-packages (from matplotlib) (3.1.2)\n",
      "Requirement already satisfied: python-dateutil>=2.7 in /home/ec2-user/anaconda3/envs/python3/lib/python3.10/site-packages (from matplotlib) (2.9.0)\n",
      "Requirement already satisfied: pandas>=1.2 in /home/ec2-user/anaconda3/envs/python3/lib/python3.10/site-packages (from seaborn) (2.2.2)\n",
      "Requirement already satisfied: pytz>=2020.1 in /home/ec2-user/anaconda3/envs/python3/lib/python3.10/site-packages (from pandas>=1.2->seaborn) (2024.1)\n",
      "Requirement already satisfied: tzdata>=2022.7 in /home/ec2-user/anaconda3/envs/python3/lib/python3.10/site-packages (from pandas>=1.2->seaborn) (2024.1)\n",
      "Requirement already satisfied: six>=1.5 in /home/ec2-user/anaconda3/envs/python3/lib/python3.10/site-packages (from python-dateutil>=2.7->matplotlib) (1.16.0)\n"
     ]
    }
   ],
   "source": [
    "# Install necessary libraries\n",
    "!pip install --upgrade pip\n",
    "!pip install numpy==1.23.5\n",
    "!pip install xgboost imbalanced-learn shap\n",
    "!pip install --upgrade matplotlib seaborn"
   ]
  },
  {
   "cell_type": "code",
   "execution_count": 2,
   "id": "72c9c58b",
   "metadata": {},
   "outputs": [
    {
     "name": "stdout",
     "output_type": "stream",
     "text": [
      "NumPy version: 1.23.5\n"
     ]
    }
   ],
   "source": [
    "import numpy as np\n",
    "print(\"NumPy version:\", np.__version__)"
   ]
  },
  {
   "cell_type": "markdown",
   "id": "ba114a20",
   "metadata": {},
   "source": [
    "# 2.2 Import Libraries"
   ]
  },
  {
   "cell_type": "code",
   "execution_count": 3,
   "id": "c21bb78a",
   "metadata": {},
   "outputs": [
    {
     "name": "stderr",
     "output_type": "stream",
     "text": [
      "/home/ec2-user/anaconda3/envs/python3/lib/python3.10/site-packages/xgboost/core.py:265: FutureWarning: Your system has an old version of glibc (< 2.28). We will stop supporting Linux distros with glibc older than 2.28 after **May 31, 2025**. Please upgrade to a recent Linux distro (with glibc 2.28+) to use future versions of XGBoost.\n",
      "Note: You have installed the 'manylinux2014' variant of XGBoost. Certain features such as GPU algorithms or federated learning are not available. To use these features, please upgrade to a recent Linux distro with glibc 2.28+, and install the 'manylinux_2_28' variant.\n",
      "  warnings.warn(\n"
     ]
    }
   ],
   "source": [
    "# Data manipulation\n",
    "import numpy as np\n",
    "import pandas as pd\n",
    "\n",
    "# Visualization\n",
    "import matplotlib.pyplot as plt\n",
    "import seaborn as sns\n",
    "\n",
    "# Preprocessing and modeling\n",
    "from sklearn.model_selection import train_test_split, GridSearchCV, StratifiedKFold, cross_val_score\n",
    "from sklearn.preprocessing import StandardScaler, LabelEncoder\n",
    "from sklearn.impute import SimpleImputer\n",
    "from sklearn.pipeline import Pipeline\n",
    "from sklearn.metrics import (\n",
    "    accuracy_score, precision_score, recall_score, f1_score,\n",
    "    roc_auc_score, confusion_matrix, classification_report, roc_curve\n",
    ")\n",
    "from sklearn.ensemble import RandomForestClassifier, GradientBoostingClassifier, VotingClassifier\n",
    "from sklearn.linear_model import LogisticRegression\n",
    "from xgboost import XGBClassifier\n",
    "\n",
    "# Handling imbalanced data\n",
    "from imblearn.over_sampling import SMOTE\n",
    "\n",
    "# Model interpretability\n",
    "import shap\n",
    "\n",
    "# Ignore warnings\n",
    "import warnings\n",
    "warnings.filterwarnings('ignore')\n",
    "\n",
    "# Enable inline plotting\n",
    "%matplotlib inline"
   ]
  },
  {
   "cell_type": "markdown",
   "id": "ccf2d1f4",
   "metadata": {},
   "source": [
    "Step 3: Loading Data into AWS SageMaker\n",
    "3.1. Upload Data Files to SageMaker\n",
    "X_Train_Data_Input.csv\n",
    "Y_Train_Data_Target.csv\n",
    "X_Test_Data_Input.csv\n",
    "Y_Test_Data_Target.csv"
   ]
  },
  {
   "cell_type": "markdown",
   "id": "c79bb9e3",
   "metadata": {},
   "source": [
    "# 3.2. Load Data into Pandas DataFrames"
   ]
  },
  {
   "cell_type": "code",
   "execution_count": 4,
   "id": "8e9c04b4",
   "metadata": {},
   "outputs": [],
   "source": [
    "# Load training data\n",
    "X_train = pd.read_csv('X_Train_Data_Input.csv')\n",
    "y_train = pd.read_csv('Y_Train_Data_Target.csv')\n",
    "\n",
    "# Load test data (features)\n",
    "X_test = pd.read_csv('X_Test_Data_Input.csv')\n",
    "\n",
    "# If test targets are available\n",
    "# y_test = pd.read_csv('Y_Test_Data_Target.csv')  # Uncomment if you have this file"
   ]
  },
  {
   "cell_type": "markdown",
   "id": "43d1e7bc",
   "metadata": {},
   "source": [
    "3.3. Merge Training Data"
   ]
  },
  {
   "cell_type": "code",
   "execution_count": 5,
   "id": "505224c7",
   "metadata": {},
   "outputs": [],
   "source": [
    "# Merge on 'ID' to align features with targets\n",
    "train_data = pd.merge(X_train, y_train, on='ID')"
   ]
  },
  {
   "cell_type": "markdown",
   "id": "3ec6357c",
   "metadata": {},
   "source": [
    "# 3.4. Preview the Data"
   ]
  },
  {
   "cell_type": "code",
   "execution_count": 6,
   "id": "30f7b84b",
   "metadata": {},
   "outputs": [
    {
     "data": {
      "text/html": [
       "<div>\n",
       "<style scoped>\n",
       "    .dataframe tbody tr th:only-of-type {\n",
       "        vertical-align: middle;\n",
       "    }\n",
       "\n",
       "    .dataframe tbody tr th {\n",
       "        vertical-align: top;\n",
       "    }\n",
       "\n",
       "    .dataframe thead th {\n",
       "        text-align: right;\n",
       "    }\n",
       "</style>\n",
       "<table border=\"1\" class=\"dataframe\">\n",
       "  <thead>\n",
       "    <tr style=\"text-align: right;\">\n",
       "      <th></th>\n",
       "      <th>ID</th>\n",
       "      <th>Column0</th>\n",
       "      <th>Column1</th>\n",
       "      <th>Column2</th>\n",
       "      <th>Column3</th>\n",
       "      <th>Column4</th>\n",
       "      <th>Column5</th>\n",
       "      <th>Column6</th>\n",
       "      <th>Column7</th>\n",
       "      <th>Column8</th>\n",
       "      <th>...</th>\n",
       "      <th>Column13</th>\n",
       "      <th>Column14</th>\n",
       "      <th>Column15</th>\n",
       "      <th>Column16</th>\n",
       "      <th>Column17</th>\n",
       "      <th>Column18</th>\n",
       "      <th>Column19</th>\n",
       "      <th>Column20</th>\n",
       "      <th>Column21</th>\n",
       "      <th>target</th>\n",
       "    </tr>\n",
       "  </thead>\n",
       "  <tbody>\n",
       "    <tr>\n",
       "      <th>0</th>\n",
       "      <td>ad1a67e4cbddc767a3456b0d94299b9e</td>\n",
       "      <td>2.0</td>\n",
       "      <td>2495</td>\n",
       "      <td>3726.0</td>\n",
       "      <td>0.678139</td>\n",
       "      <td>0.701403</td>\n",
       "      <td>-0.007468</td>\n",
       "      <td>0.434190</td>\n",
       "      <td>-0.015603</td>\n",
       "      <td>0.606265</td>\n",
       "      <td>...</td>\n",
       "      <td>0</td>\n",
       "      <td>0.001351</td>\n",
       "      <td>0.00339</td>\n",
       "      <td>0.0</td>\n",
       "      <td>0</td>\n",
       "      <td>0.0</td>\n",
       "      <td>0</td>\n",
       "      <td>0</td>\n",
       "      <td>0</td>\n",
       "      <td>0</td>\n",
       "    </tr>\n",
       "    <tr>\n",
       "      <th>1</th>\n",
       "      <td>7246d2f76ac0c217ec25e72ea5f014cb</td>\n",
       "      <td>0.0</td>\n",
       "      <td>2495</td>\n",
       "      <td>3454.0</td>\n",
       "      <td>0.452580</td>\n",
       "      <td>0.701403</td>\n",
       "      <td>-0.007468</td>\n",
       "      <td>1.554998</td>\n",
       "      <td>-0.015574</td>\n",
       "      <td>0.329946</td>\n",
       "      <td>...</td>\n",
       "      <td>0</td>\n",
       "      <td>0.001351</td>\n",
       "      <td>0.00339</td>\n",
       "      <td>0.0</td>\n",
       "      <td>0</td>\n",
       "      <td>0.0</td>\n",
       "      <td>0</td>\n",
       "      <td>0</td>\n",
       "      <td>0</td>\n",
       "      <td>0</td>\n",
       "    </tr>\n",
       "    <tr>\n",
       "      <th>2</th>\n",
       "      <td>22ba388e7dd14c13342c49e75fc29dda</td>\n",
       "      <td>2.0</td>\n",
       "      <td>2495</td>\n",
       "      <td>4543.0</td>\n",
       "      <td>-1.577453</td>\n",
       "      <td>-1.429540</td>\n",
       "      <td>-0.007469</td>\n",
       "      <td>-0.407939</td>\n",
       "      <td>-0.015607</td>\n",
       "      <td>-0.774979</td>\n",
       "      <td>...</td>\n",
       "      <td>1</td>\n",
       "      <td>0.001351</td>\n",
       "      <td>0.00339</td>\n",
       "      <td>0.0</td>\n",
       "      <td>0</td>\n",
       "      <td>0.0</td>\n",
       "      <td>0</td>\n",
       "      <td>0</td>\n",
       "      <td>0</td>\n",
       "      <td>0</td>\n",
       "    </tr>\n",
       "    <tr>\n",
       "      <th>3</th>\n",
       "      <td>59f9b981472d97342587fb3e6392aeb1</td>\n",
       "      <td>0.0</td>\n",
       "      <td>211</td>\n",
       "      <td>59.0</td>\n",
       "      <td>NaN</td>\n",
       "      <td>NaN</td>\n",
       "      <td>NaN</td>\n",
       "      <td>-0.407939</td>\n",
       "      <td>-0.015607</td>\n",
       "      <td>-0.774979</td>\n",
       "      <td>...</td>\n",
       "      <td>0</td>\n",
       "      <td>NaN</td>\n",
       "      <td>0.00339</td>\n",
       "      <td>0.0</td>\n",
       "      <td>0</td>\n",
       "      <td>1.0</td>\n",
       "      <td>0</td>\n",
       "      <td>0</td>\n",
       "      <td>0</td>\n",
       "      <td>1</td>\n",
       "    </tr>\n",
       "    <tr>\n",
       "      <th>4</th>\n",
       "      <td>f6317cf7ecf126859804eddff279aead</td>\n",
       "      <td>0.0</td>\n",
       "      <td>718</td>\n",
       "      <td>950.0</td>\n",
       "      <td>-2.028572</td>\n",
       "      <td>-1.855728</td>\n",
       "      <td>NaN</td>\n",
       "      <td>-0.407939</td>\n",
       "      <td>-0.015607</td>\n",
       "      <td>-0.774979</td>\n",
       "      <td>...</td>\n",
       "      <td>0</td>\n",
       "      <td>NaN</td>\n",
       "      <td>0.00339</td>\n",
       "      <td>0.0</td>\n",
       "      <td>0</td>\n",
       "      <td>0.0</td>\n",
       "      <td>0</td>\n",
       "      <td>0</td>\n",
       "      <td>0</td>\n",
       "      <td>0</td>\n",
       "    </tr>\n",
       "  </tbody>\n",
       "</table>\n",
       "<p>5 rows × 24 columns</p>\n",
       "</div>"
      ],
      "text/plain": [
       "                                 ID  Column0  Column1  Column2   Column3  \\\n",
       "0  ad1a67e4cbddc767a3456b0d94299b9e      2.0     2495   3726.0  0.678139   \n",
       "1  7246d2f76ac0c217ec25e72ea5f014cb      0.0     2495   3454.0  0.452580   \n",
       "2  22ba388e7dd14c13342c49e75fc29dda      2.0     2495   4543.0 -1.577453   \n",
       "3  59f9b981472d97342587fb3e6392aeb1      0.0      211     59.0       NaN   \n",
       "4  f6317cf7ecf126859804eddff279aead      0.0      718    950.0 -2.028572   \n",
       "\n",
       "    Column4   Column5   Column6   Column7   Column8  ...  Column13  Column14  \\\n",
       "0  0.701403 -0.007468  0.434190 -0.015603  0.606265  ...         0  0.001351   \n",
       "1  0.701403 -0.007468  1.554998 -0.015574  0.329946  ...         0  0.001351   \n",
       "2 -1.429540 -0.007469 -0.407939 -0.015607 -0.774979  ...         1  0.001351   \n",
       "3       NaN       NaN -0.407939 -0.015607 -0.774979  ...         0       NaN   \n",
       "4 -1.855728       NaN -0.407939 -0.015607 -0.774979  ...         0       NaN   \n",
       "\n",
       "   Column15  Column16  Column17  Column18  Column19  Column20  Column21  \\\n",
       "0   0.00339       0.0         0       0.0         0         0         0   \n",
       "1   0.00339       0.0         0       0.0         0         0         0   \n",
       "2   0.00339       0.0         0       0.0         0         0         0   \n",
       "3   0.00339       0.0         0       1.0         0         0         0   \n",
       "4   0.00339       0.0         0       0.0         0         0         0   \n",
       "\n",
       "   target  \n",
       "0       0  \n",
       "1       0  \n",
       "2       0  \n",
       "3       1  \n",
       "4       0  \n",
       "\n",
       "[5 rows x 24 columns]"
      ]
     },
     "execution_count": 6,
     "metadata": {},
     "output_type": "execute_result"
    }
   ],
   "source": [
    "# Display first few rows\n",
    "train_data.head()"
   ]
  },
  {
   "cell_type": "markdown",
   "id": "84bba2a0",
   "metadata": {},
   "source": [
    "# Step 4: Data Exploration and Understanding"
   ]
  },
  {
   "cell_type": "markdown",
   "id": "ab669019",
   "metadata": {},
   "source": [
    "- 4.1. Data Information"
   ]
  },
  {
   "cell_type": "code",
   "execution_count": 7,
   "id": "be63dfb3",
   "metadata": {},
   "outputs": [
    {
     "name": "stdout",
     "output_type": "stream",
     "text": [
      "<class 'pandas.core.frame.DataFrame'>\n",
      "RangeIndex: 785133 entries, 0 to 785132\n",
      "Data columns (total 24 columns):\n",
      " #   Column    Non-Null Count   Dtype  \n",
      "---  ------    --------------   -----  \n",
      " 0   ID        785133 non-null  object \n",
      " 1   Column0   785124 non-null  float64\n",
      " 2   Column1   785133 non-null  int64  \n",
      " 3   Column2   785133 non-null  float64\n",
      " 4   Column3   658830 non-null  float64\n",
      " 5   Column4   657423 non-null  float64\n",
      " 6   Column5   617953 non-null  float64\n",
      " 7   Column6   781283 non-null  float64\n",
      " 8   Column7   785133 non-null  float64\n",
      " 9   Column8   781283 non-null  float64\n",
      " 10  Column9   52996 non-null   float64\n",
      " 11  Column10  785133 non-null  int64  \n",
      " 12  Column11  785133 non-null  int64  \n",
      " 13  Column12  785133 non-null  int64  \n",
      " 14  Column13  785133 non-null  int64  \n",
      " 15  Column14  419430 non-null  float64\n",
      " 16  Column15  768677 non-null  float64\n",
      " 17  Column16  785133 non-null  float64\n",
      " 18  Column17  785133 non-null  int64  \n",
      " 19  Column18  785133 non-null  float64\n",
      " 20  Column19  785133 non-null  int64  \n",
      " 21  Column20  785133 non-null  int64  \n",
      " 22  Column21  785133 non-null  int64  \n",
      " 23  target    785133 non-null  int64  \n",
      "dtypes: float64(13), int64(10), object(1)\n",
      "memory usage: 143.8+ MB\n"
     ]
    }
   ],
   "source": [
    "# Get data types and non-null counts\n",
    "train_data.info()"
   ]
  },
  {
   "cell_type": "markdown",
   "id": "9285a816",
   "metadata": {},
   "source": [
    "- 4.2. Statistical Summary"
   ]
  },
  {
   "cell_type": "code",
   "execution_count": 8,
   "id": "bac95c55",
   "metadata": {},
   "outputs": [
    {
     "data": {
      "text/html": [
       "<div>\n",
       "<style scoped>\n",
       "    .dataframe tbody tr th:only-of-type {\n",
       "        vertical-align: middle;\n",
       "    }\n",
       "\n",
       "    .dataframe tbody tr th {\n",
       "        vertical-align: top;\n",
       "    }\n",
       "\n",
       "    .dataframe thead th {\n",
       "        text-align: right;\n",
       "    }\n",
       "</style>\n",
       "<table border=\"1\" class=\"dataframe\">\n",
       "  <thead>\n",
       "    <tr style=\"text-align: right;\">\n",
       "      <th></th>\n",
       "      <th>Column0</th>\n",
       "      <th>Column1</th>\n",
       "      <th>Column2</th>\n",
       "      <th>Column3</th>\n",
       "      <th>Column4</th>\n",
       "      <th>Column5</th>\n",
       "      <th>Column6</th>\n",
       "      <th>Column7</th>\n",
       "      <th>Column8</th>\n",
       "      <th>Column9</th>\n",
       "      <th>...</th>\n",
       "      <th>Column13</th>\n",
       "      <th>Column14</th>\n",
       "      <th>Column15</th>\n",
       "      <th>Column16</th>\n",
       "      <th>Column17</th>\n",
       "      <th>Column18</th>\n",
       "      <th>Column19</th>\n",
       "      <th>Column20</th>\n",
       "      <th>Column21</th>\n",
       "      <th>target</th>\n",
       "    </tr>\n",
       "  </thead>\n",
       "  <tbody>\n",
       "    <tr>\n",
       "      <th>count</th>\n",
       "      <td>785124.000000</td>\n",
       "      <td>785133.000000</td>\n",
       "      <td>785133.000000</td>\n",
       "      <td>658830.000000</td>\n",
       "      <td>657423.000000</td>\n",
       "      <td>617953.000000</td>\n",
       "      <td>781283.000000</td>\n",
       "      <td>785133.000000</td>\n",
       "      <td>781283.000000</td>\n",
       "      <td>52996.000000</td>\n",
       "      <td>...</td>\n",
       "      <td>785133.000000</td>\n",
       "      <td>419430.000000</td>\n",
       "      <td>768677.000000</td>\n",
       "      <td>785133.000000</td>\n",
       "      <td>785133.000000</td>\n",
       "      <td>785133.000000</td>\n",
       "      <td>785133.000000</td>\n",
       "      <td>785133.000000</td>\n",
       "      <td>785133.000000</td>\n",
       "      <td>785133.000000</td>\n",
       "    </tr>\n",
       "    <tr>\n",
       "      <th>mean</th>\n",
       "      <td>0.440757</td>\n",
       "      <td>1321.788614</td>\n",
       "      <td>2951.279411</td>\n",
       "      <td>-0.000210</td>\n",
       "      <td>-0.000855</td>\n",
       "      <td>-0.000367</td>\n",
       "      <td>-0.000709</td>\n",
       "      <td>0.000727</td>\n",
       "      <td>-0.000158</td>\n",
       "      <td>0.005245</td>\n",
       "      <td>...</td>\n",
       "      <td>0.328285</td>\n",
       "      <td>-0.000863</td>\n",
       "      <td>-0.000837</td>\n",
       "      <td>0.001206</td>\n",
       "      <td>0.270092</td>\n",
       "      <td>0.147856</td>\n",
       "      <td>0.018759</td>\n",
       "      <td>0.009351</td>\n",
       "      <td>0.002757</td>\n",
       "      <td>0.094294</td>\n",
       "    </tr>\n",
       "    <tr>\n",
       "      <th>std</th>\n",
       "      <td>1.163275</td>\n",
       "      <td>907.267965</td>\n",
       "      <td>2143.140140</td>\n",
       "      <td>0.999935</td>\n",
       "      <td>1.000350</td>\n",
       "      <td>1.015255</td>\n",
       "      <td>0.998984</td>\n",
       "      <td>1.045883</td>\n",
       "      <td>1.056769</td>\n",
       "      <td>1.111058</td>\n",
       "      <td>...</td>\n",
       "      <td>0.469589</td>\n",
       "      <td>1.291202</td>\n",
       "      <td>1.283393</td>\n",
       "      <td>0.034855</td>\n",
       "      <td>3.128214</td>\n",
       "      <td>0.430530</td>\n",
       "      <td>0.135671</td>\n",
       "      <td>0.096249</td>\n",
       "      <td>0.052439</td>\n",
       "      <td>0.292237</td>\n",
       "    </tr>\n",
       "    <tr>\n",
       "      <th>min</th>\n",
       "      <td>0.000000</td>\n",
       "      <td>-1080.000000</td>\n",
       "      <td>-47.000000</td>\n",
       "      <td>-2.028572</td>\n",
       "      <td>-1.855728</td>\n",
       "      <td>-0.007469</td>\n",
       "      <td>-0.407939</td>\n",
       "      <td>-0.015607</td>\n",
       "      <td>-0.774979</td>\n",
       "      <td>-0.088554</td>\n",
       "      <td>...</td>\n",
       "      <td>0.000000</td>\n",
       "      <td>-832.749615</td>\n",
       "      <td>-1091.545904</td>\n",
       "      <td>0.000000</td>\n",
       "      <td>0.000000</td>\n",
       "      <td>0.000000</td>\n",
       "      <td>0.000000</td>\n",
       "      <td>0.000000</td>\n",
       "      <td>0.000000</td>\n",
       "      <td>0.000000</td>\n",
       "    </tr>\n",
       "    <tr>\n",
       "      <th>25%</th>\n",
       "      <td>0.000000</td>\n",
       "      <td>515.000000</td>\n",
       "      <td>1129.000000</td>\n",
       "      <td>-0.675216</td>\n",
       "      <td>-0.577162</td>\n",
       "      <td>-0.007469</td>\n",
       "      <td>-0.407939</td>\n",
       "      <td>-0.015607</td>\n",
       "      <td>-0.774979</td>\n",
       "      <td>-0.086503</td>\n",
       "      <td>...</td>\n",
       "      <td>0.000000</td>\n",
       "      <td>0.001351</td>\n",
       "      <td>0.003390</td>\n",
       "      <td>0.000000</td>\n",
       "      <td>0.000000</td>\n",
       "      <td>0.000000</td>\n",
       "      <td>0.000000</td>\n",
       "      <td>0.000000</td>\n",
       "      <td>0.000000</td>\n",
       "      <td>0.000000</td>\n",
       "    </tr>\n",
       "    <tr>\n",
       "      <th>50%</th>\n",
       "      <td>0.000000</td>\n",
       "      <td>1173.000000</td>\n",
       "      <td>2709.000000</td>\n",
       "      <td>0.678139</td>\n",
       "      <td>0.701403</td>\n",
       "      <td>-0.007469</td>\n",
       "      <td>-0.407939</td>\n",
       "      <td>-0.015607</td>\n",
       "      <td>0.122085</td>\n",
       "      <td>-0.081820</td>\n",
       "      <td>...</td>\n",
       "      <td>0.000000</td>\n",
       "      <td>0.001351</td>\n",
       "      <td>0.003390</td>\n",
       "      <td>0.000000</td>\n",
       "      <td>0.000000</td>\n",
       "      <td>0.000000</td>\n",
       "      <td>0.000000</td>\n",
       "      <td>0.000000</td>\n",
       "      <td>0.000000</td>\n",
       "      <td>0.000000</td>\n",
       "    </tr>\n",
       "    <tr>\n",
       "      <th>75%</th>\n",
       "      <td>0.000000</td>\n",
       "      <td>2435.000000</td>\n",
       "      <td>4472.000000</td>\n",
       "      <td>0.678139</td>\n",
       "      <td>0.701403</td>\n",
       "      <td>-0.007468</td>\n",
       "      <td>-0.367723</td>\n",
       "      <td>-0.015607</td>\n",
       "      <td>0.625528</td>\n",
       "      <td>-0.063140</td>\n",
       "      <td>...</td>\n",
       "      <td>1.000000</td>\n",
       "      <td>0.001351</td>\n",
       "      <td>0.003390</td>\n",
       "      <td>0.000000</td>\n",
       "      <td>0.000000</td>\n",
       "      <td>0.000000</td>\n",
       "      <td>0.000000</td>\n",
       "      <td>0.000000</td>\n",
       "      <td>0.000000</td>\n",
       "      <td>0.000000</td>\n",
       "    </tr>\n",
       "    <tr>\n",
       "      <th>max</th>\n",
       "      <td>18.000000</td>\n",
       "      <td>2499.000000</td>\n",
       "      <td>10290.000000</td>\n",
       "      <td>0.678139</td>\n",
       "      <td>0.701403</td>\n",
       "      <td>551.421127</td>\n",
       "      <td>14.985817</td>\n",
       "      <td>201.687947</td>\n",
       "      <td>323.992484</td>\n",
       "      <td>133.911803</td>\n",
       "      <td>...</td>\n",
       "      <td>1.000000</td>\n",
       "      <td>8.514416</td>\n",
       "      <td>0.012736</td>\n",
       "      <td>2.000000</td>\n",
       "      <td>728.000000</td>\n",
       "      <td>12.000000</td>\n",
       "      <td>1.000000</td>\n",
       "      <td>1.000000</td>\n",
       "      <td>1.000000</td>\n",
       "      <td>1.000000</td>\n",
       "    </tr>\n",
       "  </tbody>\n",
       "</table>\n",
       "<p>8 rows × 23 columns</p>\n",
       "</div>"
      ],
      "text/plain": [
       "             Column0        Column1        Column2        Column3  \\\n",
       "count  785124.000000  785133.000000  785133.000000  658830.000000   \n",
       "mean        0.440757    1321.788614    2951.279411      -0.000210   \n",
       "std         1.163275     907.267965    2143.140140       0.999935   \n",
       "min         0.000000   -1080.000000     -47.000000      -2.028572   \n",
       "25%         0.000000     515.000000    1129.000000      -0.675216   \n",
       "50%         0.000000    1173.000000    2709.000000       0.678139   \n",
       "75%         0.000000    2435.000000    4472.000000       0.678139   \n",
       "max        18.000000    2499.000000   10290.000000       0.678139   \n",
       "\n",
       "             Column4        Column5        Column6        Column7  \\\n",
       "count  657423.000000  617953.000000  781283.000000  785133.000000   \n",
       "mean       -0.000855      -0.000367      -0.000709       0.000727   \n",
       "std         1.000350       1.015255       0.998984       1.045883   \n",
       "min        -1.855728      -0.007469      -0.407939      -0.015607   \n",
       "25%        -0.577162      -0.007469      -0.407939      -0.015607   \n",
       "50%         0.701403      -0.007469      -0.407939      -0.015607   \n",
       "75%         0.701403      -0.007468      -0.367723      -0.015607   \n",
       "max         0.701403     551.421127      14.985817     201.687947   \n",
       "\n",
       "             Column8       Column9  ...       Column13       Column14  \\\n",
       "count  781283.000000  52996.000000  ...  785133.000000  419430.000000   \n",
       "mean       -0.000158      0.005245  ...       0.328285      -0.000863   \n",
       "std         1.056769      1.111058  ...       0.469589       1.291202   \n",
       "min        -0.774979     -0.088554  ...       0.000000    -832.749615   \n",
       "25%        -0.774979     -0.086503  ...       0.000000       0.001351   \n",
       "50%         0.122085     -0.081820  ...       0.000000       0.001351   \n",
       "75%         0.625528     -0.063140  ...       1.000000       0.001351   \n",
       "max       323.992484    133.911803  ...       1.000000       8.514416   \n",
       "\n",
       "            Column15       Column16       Column17       Column18  \\\n",
       "count  768677.000000  785133.000000  785133.000000  785133.000000   \n",
       "mean       -0.000837       0.001206       0.270092       0.147856   \n",
       "std         1.283393       0.034855       3.128214       0.430530   \n",
       "min     -1091.545904       0.000000       0.000000       0.000000   \n",
       "25%         0.003390       0.000000       0.000000       0.000000   \n",
       "50%         0.003390       0.000000       0.000000       0.000000   \n",
       "75%         0.003390       0.000000       0.000000       0.000000   \n",
       "max         0.012736       2.000000     728.000000      12.000000   \n",
       "\n",
       "            Column19       Column20       Column21         target  \n",
       "count  785133.000000  785133.000000  785133.000000  785133.000000  \n",
       "mean        0.018759       0.009351       0.002757       0.094294  \n",
       "std         0.135671       0.096249       0.052439       0.292237  \n",
       "min         0.000000       0.000000       0.000000       0.000000  \n",
       "25%         0.000000       0.000000       0.000000       0.000000  \n",
       "50%         0.000000       0.000000       0.000000       0.000000  \n",
       "75%         0.000000       0.000000       0.000000       0.000000  \n",
       "max         1.000000       1.000000       1.000000       1.000000  \n",
       "\n",
       "[8 rows x 23 columns]"
      ]
     },
     "execution_count": 8,
     "metadata": {},
     "output_type": "execute_result"
    }
   ],
   "source": [
    "# Summary statistics\n",
    "train_data.describe()"
   ]
  },
  {
   "cell_type": "markdown",
   "id": "0cb4b2f7",
   "metadata": {},
   "source": [
    "- 4.3. Check for Missing Values"
   ]
  },
  {
   "cell_type": "code",
   "execution_count": 9,
   "id": "284afbbf",
   "metadata": {},
   "outputs": [
    {
     "data": {
      "text/plain": [
       "ID               0\n",
       "Column0          9\n",
       "Column1          0\n",
       "Column2          0\n",
       "Column3     126303\n",
       "Column4     127710\n",
       "Column5     167180\n",
       "Column6       3850\n",
       "Column7          0\n",
       "Column8       3850\n",
       "Column9     732137\n",
       "Column10         0\n",
       "Column11         0\n",
       "Column12         0\n",
       "Column13         0\n",
       "Column14    365703\n",
       "Column15     16456\n",
       "Column16         0\n",
       "Column17         0\n",
       "Column18         0\n",
       "Column19         0\n",
       "Column20         0\n",
       "Column21         0\n",
       "target           0\n",
       "dtype: int64"
      ]
     },
     "execution_count": 9,
     "metadata": {},
     "output_type": "execute_result"
    }
   ],
   "source": [
    "# Missing values in each column\n",
    "train_data.isnull().sum()"
   ]
  },
  {
   "cell_type": "markdown",
   "id": "1fddbb54",
   "metadata": {},
   "source": [
    "- 4.4. Target Variable Distribution"
   ]
  },
  {
   "cell_type": "code",
   "execution_count": 10,
   "id": "329ee1e6",
   "metadata": {},
   "outputs": [
    {
     "name": "stdout",
     "output_type": "stream",
     "text": [
      "Data type of 'target' column: int64\n"
     ]
    }
   ],
   "source": [
    "# Check the data type of the 'target' column\n",
    "print(\"Data type of 'target' column:\", train_data['target'].dtype)"
   ]
  },
  {
   "cell_type": "code",
   "execution_count": 11,
   "id": "3863eab6",
   "metadata": {},
   "outputs": [
    {
     "data": {
      "text/plain": [
       "<Axes: xlabel='target', ylabel='count'>"
      ]
     },
     "execution_count": 11,
     "metadata": {},
     "output_type": "execute_result"
    },
    {
     "data": {
      "image/png": "[encoded data removed]",
      "text/plain": [
       "<Figure size 640x480 with 1 Axes>"
      ]
     },
     "metadata": {},
     "output_type": "display_data"
    }
   ],
   "source": [
    "# Check and convert 'target' column\n",
    "train_data['target'] = pd.to_numeric(train_data['target'], errors='coerce')\n",
    "train_data = train_data.dropna(subset=['target'])\n",
    "\n",
    "# Ensure 'target' is integer type\n",
    "train_data['target'] = train_data['target'].astype(int)\n",
    "\n",
    "# Plot the distribution\n",
    "sns.countplot(x='target', data=train_data)\n",
    "#plt.title('Target Variable Distribution')\n",
    "#plt.show()"
   ]
  },
  {
   "cell_type": "markdown",
   "id": "40040705",
   "metadata": {},
   "source": [
    "# Step 5: Data Preprocessing\n",
    "\n",
    "- 5.1. Handle Missing Values\n",
    "- Identify Columns with Missing Values"
   ]
  },
  {
   "cell_type": "code",
   "execution_count": 12,
   "id": "91cb0c40",
   "metadata": {},
   "outputs": [
    {
     "name": "stdout",
     "output_type": "stream",
     "text": [
      "Columns with missing values: ['Column0', 'Column3', 'Column4', 'Column5', 'Column6', 'Column8', 'Column9', 'Column14', 'Column15']\n"
     ]
    }
   ],
   "source": [
    "# Columns with missing values\n",
    "missing_cols = train_data.columns[train_data.isnull().any()]\n",
    "print(\"Columns with missing values:\", missing_cols.tolist())"
   ]
  },
  {
   "cell_type": "markdown",
   "id": "393e4b3d",
   "metadata": {},
   "source": [
    "- Impute Missing Values\n",
    "- Numeric Columns"
   ]
  },
  {
   "cell_type": "code",
   "execution_count": 13,
   "id": "4cbabb23",
   "metadata": {},
   "outputs": [],
   "source": [
    "# Select numeric columns\n",
    "numeric_cols = train_data.select_dtypes(include=[np.number]).columns.tolist()\n",
    "numeric_cols.remove('target')  # Exclude the target variable if it's numeric\n",
    "\n",
    "# Initialize imputer\n",
    "numeric_imputer = SimpleImputer(strategy='median')\n",
    "\n",
    "# Fit and transform\n",
    "train_data[numeric_cols] = numeric_imputer.fit_transform(train_data[numeric_cols])"
   ]
  },
  {
   "cell_type": "markdown",
   "id": "886560ae",
   "metadata": {},
   "source": [
    "- Categorical Columns"
   ]
  },
  {
   "cell_type": "code",
   "execution_count": 14,
   "id": "0843beff",
   "metadata": {},
   "outputs": [],
   "source": [
    "# Select categorical columns\n",
    "categorical_cols = train_data.select_dtypes(include=['object']).columns.tolist()\n",
    "categorical_cols.remove('ID')  # Exclude 'ID' column\n",
    "\n",
    "# Fill missing values with 'Unknown'\n",
    "train_data[categorical_cols] = train_data[categorical_cols].fillna('Unknown')"
   ]
  },
  {
   "cell_type": "markdown",
   "id": "32db7e0e",
   "metadata": {},
   "source": [
    "- 5.2. Encode Categorical Variables"
   ]
  },
  {
   "cell_type": "code",
   "execution_count": 15,
   "id": "4551ed0e",
   "metadata": {},
   "outputs": [],
   "source": [
    "# Initialize label encoders\n",
    "label_encoders = {}\n",
    "for col in categorical_cols:\n",
    "    le = LabelEncoder()\n",
    "    train_data[col] = le.fit_transform(train_data[col])\n",
    "    label_encoders[col] = le"
   ]
  },
  {
   "cell_type": "markdown",
   "id": "136a2a56",
   "metadata": {},
   "source": [
    "- 5.3. Feature Scaling"
   ]
  },
  {
   "cell_type": "code",
   "execution_count": 16,
   "id": "5073b927",
   "metadata": {},
   "outputs": [],
   "source": [
    "# Initialize scaler\n",
    "scaler = StandardScaler()\n",
    "\n",
    "# Features (excluding 'ID' and 'target')\n",
    "X_features = train_data.drop(['ID', 'target'], axis=1)\n",
    "\n",
    "# Fit scaler on features\n",
    "X_scaled = scaler.fit_transform(X_features)"
   ]
  },
  {
   "cell_type": "markdown",
   "id": "cd972f49",
   "metadata": {},
   "source": [
    "# Step 6: Handling Imbalanced Data"
   ]
  },
  {
   "cell_type": "markdown",
   "id": "adf379d9",
   "metadata": {},
   "source": [
    "- 6.1. Check Class Distribution"
   ]
  },
  {
   "cell_type": "code",
   "execution_count": 17,
   "id": "c938529e",
   "metadata": {},
   "outputs": [
    {
     "data": {
      "text/plain": [
       "target\n",
       "0    711100\n",
       "1     74033\n",
       "Name: count, dtype: int64"
      ]
     },
     "execution_count": 17,
     "metadata": {},
     "output_type": "execute_result"
    }
   ],
   "source": [
    "# Class distribution\n",
    "train_data['target'].value_counts()"
   ]
  },
  {
   "cell_type": "markdown",
   "id": "b94520ae",
   "metadata": {},
   "source": [
    "- 6.2. Apply SMOTE"
   ]
  },
  {
   "cell_type": "code",
   "execution_count": 18,
   "id": "b17cb984",
   "metadata": {},
   "outputs": [],
   "source": [
    "# Initialize SMOTE\n",
    "smote = SMOTE(random_state=42)\n",
    "\n",
    "# Resample the dataset\n",
    "X_resampled, y_resampled = smote.fit_resample(X_scaled, train_data['target'])"
   ]
  },
  {
   "cell_type": "markdown",
   "id": "3ffbdefe",
   "metadata": {},
   "source": [
    "# Step 7: Splitting the Data"
   ]
  },
  {
   "cell_type": "code",
   "execution_count": 19,
   "id": "6e6c0020",
   "metadata": {},
   "outputs": [],
   "source": [
    "# Split data into training and validation sets\n",
    "X_train_split, X_val, y_train_split, y_val = train_test_split(\n",
    "    X_resampled, y_resampled, test_size=0.2, random_state=42, stratify=y_resampled\n",
    ")"
   ]
  },
  {
   "cell_type": "markdown",
   "id": "b9e15bbb",
   "metadata": {},
   "source": [
    "# Step 8: Model Training and Evaluation"
   ]
  },
  {
   "cell_type": "markdown",
   "id": "2487cdd6",
   "metadata": {},
   "source": [
    "- 8.1. Initialize Models"
   ]
  },
  {
   "cell_type": "code",
   "execution_count": 20,
   "id": "409172a5",
   "metadata": {},
   "outputs": [],
   "source": [
    "# Define models\n",
    "models = {\n",
    "    'Logistic Regression': LogisticRegression(max_iter=1000, random_state=42),\n",
    "    'Random Forest': RandomForestClassifier(random_state=42),\n",
    "    'Gradient Boosting': GradientBoostingClassifier(random_state=42),\n",
    "    'XGBoost': XGBClassifier(use_label_encoder=False, eval_metric='logloss', random_state=42)\n",
    "}"
   ]
  },
  {
   "cell_type": "markdown",
   "id": "93c2859d",
   "metadata": {},
   "source": [
    "- 8.2. Train and Evaluate Models"
   ]
  },
  {
   "cell_type": "code",
   "execution_count": 21,
   "id": "8a1c61e0",
   "metadata": {},
   "outputs": [
    {
     "name": "stdout",
     "output_type": "stream",
     "text": [
      "Training Logistic Regression...\n",
      "Results for Logistic Regression:\n",
      "Accuracy: 0.9807305582899732\n",
      "Precision: 0.9633053012489073\n",
      "Recall: 0.9995359302489102\n",
      "F1 Score: 0.9810862386080907\n",
      "ROC AUC: 0.9807305582899732\n",
      "------------------------------\n",
      "Training Random Forest...\n",
      "Results for Random Forest:\n",
      "Accuracy: 0.9862115033047392\n",
      "Precision: 0.9739479095270733\n",
      "Recall: 0.9991492054563352\n",
      "F1 Score: 0.9863876162709982\n",
      "ROC AUC: 0.9862115033047391\n",
      "------------------------------\n",
      "Training Gradient Boosting...\n",
      "Results for Gradient Boosting:\n",
      "Accuracy: 0.9830473913654901\n",
      "Precision: 0.9680724943789603\n",
      "Recall: 0.9990437350583603\n",
      "F1 Score: 0.983314301532925\n",
      "ROC AUC: 0.98304739136549\n",
      "------------------------------\n",
      "Training XGBoost...\n",
      "Results for XGBoost:\n",
      "Accuracy: 0.9853747714808044\n",
      "Precision: 0.9740550488957257\n",
      "Recall: 0.9973140205315708\n",
      "F1 Score: 0.9855473255603886\n",
      "ROC AUC: 0.9853747714808044\n",
      "------------------------------\n"
     ]
    }
   ],
   "source": [
    "# Function to train and evaluate models\n",
    "def train_and_evaluate(models, X_train, y_train, X_val, y_val):\n",
    "    for name, model in models.items():\n",
    "        print(f\"Training {name}...\")\n",
    "        model.fit(X_train, y_train)\n",
    "        y_pred = model.predict(X_val)\n",
    "        print(f\"Results for {name}:\")\n",
    "        print(\"Accuracy:\", accuracy_score(y_val, y_pred))\n",
    "        print(\"Precision:\", precision_score(y_val, y_pred))\n",
    "        print(\"Recall:\", recall_score(y_val, y_pred))\n",
    "        print(\"F1 Score:\", f1_score(y_val, y_pred))\n",
    "        print(\"ROC AUC:\", roc_auc_score(y_val, y_pred))\n",
    "        print(\"-\" * 30)\n",
    "\n",
    "# Call the function\n",
    "train_and_evaluate(models, X_train_split, y_train_split, X_val, y_val)"
   ]
  },
  {
   "cell_type": "markdown",
   "id": "0e951dae",
   "metadata": {},
   "source": [
    "# Step 9: Hyperparameter Tuning"
   ]
  },
  {
   "cell_type": "markdown",
   "id": "c9f88ecc",
   "metadata": {},
   "source": [
    "- 9.1. Define Parameter Grid for Random Forest"
   ]
  },
  {
   "cell_type": "code",
   "execution_count": 22,
   "id": "17ab9ba4",
   "metadata": {},
   "outputs": [],
   "source": [
    "# Parameter grid\n",
    "param_grid = {\n",
    "    'n_estimators': [100, 200],\n",
    "    'max_depth': [10, 20, None],\n",
    "    'min_samples_split': [2, 5],\n",
    "    'min_samples_leaf': [1, 2]\n",
    "}"
   ]
  },
  {
   "cell_type": "markdown",
   "id": "f168e687",
   "metadata": {},
   "source": [
    "- 9.2. Perform Grid Search"
   ]
  },
  {
   "cell_type": "code",
   "execution_count": null,
   "id": "4dfeb29c",
   "metadata": {},
   "outputs": [],
   "source": [
    "# Initialize GridSearchCV\n",
    "grid_search = GridSearchCV(\n",
    "    estimator=RandomForestClassifier(random_state=42),\n",
    "    param_grid=param_grid,\n",
    "    scoring='f1',\n",
    "    cv=3,\n",
    "    n_jobs=-1\n",
    ")\n",
    "\n",
    "# Fit GridSearchCV\n",
    "grid_search.fit(X_train_split, y_train_split)\n",
    "\n",
    "# Best estimator\n",
    "best_rf = grid_search.best_estimator_\n",
    "print(\"Best parameters:\", grid_search.best_params_)"
   ]
  },
  {
   "cell_type": "markdown",
   "id": "1b1c9282",
   "metadata": {},
   "source": [
    "- 9.3. Evaluate the Tuned Model"
   ]
  },
  {
   "cell_type": "code",
   "execution_count": null,
   "id": "f939108f",
   "metadata": {},
   "outputs": [],
   "source": [
    "# Predict with the best model\n",
    "y_pred_best_rf = best_rf.predict(X_val)\n",
    "\n",
    "# Evaluate\n",
    "print(\"Best Random Forest Model Metrics:\")\n",
    "print(\"Accuracy:\", accuracy_score(y_val, y_pred_best_rf))\n",
    "print(\"Precision:\", precision_score(y_val, y_pred_best_rf))\n",
    "print(\"Recall:\", recall_score(y_val, y_pred_best_rf))\n",
    "print(\"F1 Score:\", f1_score(y_val, y_pred_best_rf))\n",
    "print(\"ROC AUC:\", roc_auc_score(y_val, y_pred_best_rf))"
   ]
  },
  {
   "cell_type": "markdown",
   "id": "04bd508d",
   "metadata": {},
   "source": [
    "# Step 10: Ensemble Modeling"
   ]
  },
  {
   "cell_type": "markdown",
   "id": "f5b85398",
   "metadata": {},
   "source": [
    "- 10.1. Create a Voting Classifier"
   ]
  },
  {
   "cell_type": "code",
   "execution_count": null,
   "id": "98a0ec4b",
   "metadata": {},
   "outputs": [],
   "source": [
    "# Initialize VotingClassifier\n",
    "ensemble = VotingClassifier(\n",
    "    estimators=[\n",
    "        ('rf', best_rf),\n",
    "        ('gbc', models['Gradient Boosting']),\n",
    "        ('xgb', models['XGBoost'])\n",
    "    ],\n",
    "    voting='soft'\n",
    ")\n",
    "\n",
    "# Train the ensemble model\n",
    "ensemble.fit(X_train_split, y_train_split)"
   ]
  },
  {
   "cell_type": "markdown",
   "id": "1c4399fe",
   "metadata": {},
   "source": [
    "- 10.2. Evaluate the Ensemble Model"
   ]
  },
  {
   "cell_type": "code",
   "execution_count": null,
   "id": "4f5f974d",
   "metadata": {},
   "outputs": [],
   "source": [
    "# Predict\n",
    "y_pred_ensemble = ensemble.predict(X_val)\n",
    "\n",
    "# Evaluate\n",
    "print(\"Ensemble Model Metrics:\")\n",
    "print(\"Accuracy:\", accuracy_score(y_val, y_pred_ensemble))\n",
    "print(\"Precision:\", precision_score(y_val, y_pred_ensemble))\n",
    "print(\"Recall:\", recall_score(y_val, y_pred_ensemble))\n",
    "print(\"F1 Score:\", f1_score(y_val, y_pred_ensemble))\n",
    "print(\"ROC AUC:\", roc_auc_score(y_val, y_pred_ensemble))"
   ]
  },
  {
   "cell_type": "markdown",
   "id": "70a143c6",
   "metadata": {},
   "source": [
    "# Step 11: Model Interpretability"
   ]
  },
  {
   "cell_type": "markdown",
   "id": "3b8550e9",
   "metadata": {},
   "source": [
    "- 11.1. Initialize SHAP Explainer"
   ]
  },
  {
   "cell_type": "code",
   "execution_count": null,
   "id": "5274dd84",
   "metadata": {},
   "outputs": [],
   "source": [
    "# Use TreeExplainer for ensemble models\n",
    "explainer = shap.TreeExplainer(best_rf)\n",
    "\n",
    "# Calculate SHAP values\n",
    "shap_values = explainer.shap_values(X_val)"
   ]
  },
  {
   "cell_type": "markdown",
   "id": "c205e909",
   "metadata": {},
   "source": [
    "- 11.2. Plot SHAP Summary"
   ]
  },
  {
   "cell_type": "code",
   "execution_count": null,
   "id": "670f00df",
   "metadata": {},
   "outputs": [],
   "source": [
    "# Plot summary\n",
    "shap.summary_plot(shap_values[1], X_val)"
   ]
  },
  {
   "cell_type": "markdown",
   "id": "dffe3606",
   "metadata": {},
   "source": [
    "# Step 12: Preparing Test Data and Making Predictions"
   ]
  },
  {
   "cell_type": "markdown",
   "id": "9cd99643",
   "metadata": {},
   "source": [
    "- 12.1. Preprocess Test Data\n",
    "- Handle Missing Values"
   ]
  },
  {
   "cell_type": "code",
   "execution_count": null,
   "id": "3a2bd724",
   "metadata": {},
   "outputs": [],
   "source": [
    "# Numeric columns\n",
    "X_test[numeric_cols] = numeric_imputer.transform(X_test[numeric_cols])\n",
    "\n",
    "# Categorical columns\n",
    "X_test[categorical_cols] = X_test[categorical_cols].fillna('Unknown')"
   ]
  },
  {
   "cell_type": "markdown",
   "id": "34836795",
   "metadata": {},
   "source": [
    "- Encode Categorical Variables"
   ]
  },
  {
   "cell_type": "code",
   "execution_count": null,
   "id": "5a8e37bf",
   "metadata": {},
   "outputs": [],
   "source": [
    "# Encode using the same label encoders\n",
    "for col in categorical_cols:\n",
    "    le = label_encoders[col]\n",
    "    X_test[col] = le.transform(X_test[col])"
   ]
  },
  {
   "cell_type": "markdown",
   "id": "c8252ae2",
   "metadata": {},
   "source": [
    "- Feature Scaling"
   ]
  },
  {
   "cell_type": "code",
   "execution_count": null,
   "id": "0860d402",
   "metadata": {},
   "outputs": [],
   "source": [
    "# Scale features\n",
    "X_test_features = X_test.drop(['ID'], axis=1)\n",
    "X_test_scaled = scaler.transform(X_test_features)"
   ]
  },
  {
   "cell_type": "markdown",
   "id": "1ec3c5be",
   "metadata": {},
   "source": [
    "- 12.2. Make Predictions on Test Data"
   ]
  },
  {
   "cell_type": "code",
   "execution_count": null,
   "id": "cc2ec2c5",
   "metadata": {},
   "outputs": [],
   "source": [
    "# Use your final model (trained on the entire training data)\n",
    "final_model = ensemble\n",
    "\n",
    "# Retrain on full data\n",
    "final_model.fit(X_resampled, y_resampled)\n",
    "\n",
    "# Predict\n",
    "y_pred_test = final_model.predict(X_test_scaled)"
   ]
  },
  {
   "cell_type": "markdown",
   "id": "102efc3a",
   "metadata": {},
   "source": [
    "- 12.3. Prepare Submission File"
   ]
  },
  {
   "cell_type": "code",
   "execution_count": null,
   "id": "a0800470",
   "metadata": {},
   "outputs": [],
   "source": [
    "# Prepare submission DataFrame\n",
    "submission = pd.DataFrame({\n",
    "    'ID': X_test['ID'],\n",
    "    'target': y_pred_test\n",
    "})\n",
    "\n",
    "# Save to CSV\n",
    "submission.to_csv('Ypred_test.csv', index=False)"
   ]
  },
  {
   "cell_type": "markdown",
   "id": "62724f59",
   "metadata": {},
   "source": [
    "- 12.4. Evaluate on Test Targets (If Available)"
   ]
  },
  {
   "cell_type": "code",
   "execution_count": null,
   "id": "8a922b99",
   "metadata": {},
   "outputs": [],
   "source": [
    "# If test targets are available\n",
    "# Load test targets\n",
    "y_test = pd.read_csv('Y_Test_Data_Target.csv')  # Uncomment if we have this file\n",
    "\n",
    "# Evaluate\n",
    "y_true = y_test['target']\n",
    "y_pred = y_pred_test\n",
    "\n",
    "Calculate metrics\n",
    "print(\"Test Data Metrics:\")\n",
    "print(\"Accuracy:\", accuracy_score(y_true, y_pred))\n",
    "print(\"Precision:\", precision_score(y_true, y_pred))\n",
    "print(\"Recall:\", recall_score(y_true, y_pred))\n",
    "print(\"F1 Score:\", f1_score(y_true, y_pred))\n",
    "print(\"ROC AUC:\", roc_auc_score(y_true, y_pred))"
   ]
  },
  {
   "cell_type": "markdown",
   "id": "d4f35284",
   "metadata": {},
   "source": [
    "Step 13: Generating Reports and Visualizations\n",
    "\n",
    "13.1. Confusion Matrix"
   ]
  },
  {
   "cell_type": "code",
   "execution_count": null,
   "id": "62655664",
   "metadata": {},
   "outputs": [],
   "source": [
    "# Confusion Matrix\n",
    "cm = confusion_matrix(y_val, y_pred_ensemble)\n",
    "sns.heatmap(cm, annot=True, fmt='d', cmap='Blues')\n",
    "plt.title('Confusion Matrix on Validation Data')\n",
    "plt.xlabel('Predicted')\n",
    "plt.ylabel('Actual')\n",
    "plt.show()"
   ]
  },
  {
   "cell_type": "markdown",
   "id": "6e81bc4d",
   "metadata": {},
   "source": [
    "- 13.2. ROC Curve"
   ]
  },
  {
   "cell_type": "code",
   "execution_count": null,
   "id": "dd12a05f",
   "metadata": {},
   "outputs": [],
   "source": [
    "# ROC Curve\n",
    "y_proba = ensemble.predict_proba(X_val)[:, 1]\n",
    "fpr, tpr, thresholds = roc_curve(y_val, y_proba)\n",
    "plt.plot(fpr, tpr, label='Ensemble Model')\n",
    "plt.plot([0, 1], [0, 1], 'k--')\n",
    "plt.title('ROC Curve on Validation Data')\n",
    "plt.xlabel('False Positive Rate')\n",
    "plt.ylabel('True Positive Rate')\n",
    "plt.legend()\n",
    "plt.show()"
   ]
  },
  {
   "cell_type": "markdown",
   "id": "ec72937f",
   "metadata": {},
   "source": [
    "- 13.3. Feature Importances"
   ]
  },
  {
   "cell_type": "code",
   "execution_count": null,
   "id": "efc8141e",
   "metadata": {},
   "outputs": [],
   "source": [
    "# Get feature importances from the best Random Forest model\n",
    "importances = best_rf.feature_importances_\n",
    "feature_names = X_features.columns\n",
    "feature_importance_df = pd.DataFrame({'feature': feature_names, 'importance': importances})\n",
    "\n",
    "# Sort and plot top features\n",
    "feature_importance_df = feature_importance_df.sort_values(by='importance', ascending=False)\n",
    "plt.figure(figsize=(10, 8))\n",
    "sns.barplot(x='importance', y='feature', data=feature_importance_df.head(10))\n",
    "plt.title('Top 10 Feature Importances')\n",
    "plt.show()"
   ]
  },
  {
   "cell_type": "markdown",
   "id": "370740ab",
   "metadata": {},
   "source": [
    "- 14 Save the Model"
   ]
  },
  {
   "cell_type": "code",
   "execution_count": null,
   "id": "8951e9ed",
   "metadata": {},
   "outputs": [],
   "source": [
    "# Save the trained model\n",
    "import joblib\n",
    "joblib.dump(final_model, 'final_model.pkl')"
   ]
  },
  {
   "cell_type": "code",
   "execution_count": null,
   "id": "be718039",
   "metadata": {},
   "outputs": [],
   "source": [
    "# Test basic plotting\n",
    "import matplotlib.pyplot as plt\n",
    "%matplotlib inline\n",
    "\n",
    "plt.plot([1, 2, 3], [4, 5, 6])\n",
    "plt.title('Test Plot')\n",
    "plt.show()"
   ]
  },
  {
   "cell_type": "code",
   "execution_count": null,
   "id": "8755059b",
   "metadata": {},
   "outputs": [],
   "source": []
  }
 ],
 "metadata": {
  "kernelspec": {
   "display_name": "conda_python3",
   "language": "python",
   "name": "conda_python3"
  },
  "language_info": {
   "codemirror_mode": {
    "name": "ipython",
    "version": 3
   },
   "file_extension": ".py",
   "mimetype": "text/x-python",
   "name": "python",
   "nbconvert_exporter": "python",
   "pygments_lexer": "ipython3",
   "version": "3.10.14"
  }
 },
 "nbformat": 4,
 "nbformat_minor": 5
}
